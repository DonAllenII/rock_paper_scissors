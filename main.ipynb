{
 "cells": [
  {
   "cell_type": "code",
   "execution_count": 53,
   "id": "e2665332-e34c-48ac-ad00-046637f6c806",
   "metadata": {},
   "outputs": [
    {
     "name": "stdout",
     "output_type": "stream",
     "text": [
      "Thank you for playing!\n"
     ]
    }
   ],
   "source": [
    "import random\n",
    "from IPython.display import clear_output\n",
    "\n",
    "\n",
    "\n",
    "#create a dictionary of choices, key beats 1st value & loses to 2nd value in list\n",
    "choices = {\"rock\": [\"scissors\", \"paper\"],\n",
    "          \"paper\": [\"rock\", \"scissors\"],\n",
    "        \"scissors\": [\"paper\", \"rock\"]}\n",
    "\n",
    "\n",
    "class Game():\n",
    "    def __init__(self):\n",
    "        pass\n",
    "\n",
    "    def game(self):\n",
    "        while True:\n",
    "\n",
    "            #cpu makes choice, alert player cpu has choosen\n",
    "            cpu_choice = list(choices.keys())[random.randint(0, len(list(choices.keys())) -1)] #using randint for cpu to make choice\n",
    "            #random.choice(list(choices.keys()))    #more precise way for cpu to make choice\n",
    "            print(\"CPU has choosen!\\n\")\n",
    "\n",
    "            #ask usr for an action\n",
    "            action = str(input(\"Choose rock, paper or scissors!\\n\\nPress R for rock\\nPress P for Paper\\nPress S for scissors\\nOr press q to quit\\n\"))\n",
    "\n",
    "            #decision tree based on action taken\n",
    "            if action.lower() == \"q\":\n",
    "                clear_output()\n",
    "                print(\"Thank you for playing!\")\n",
    "                break\n",
    "            if action.lower() == \"p\":\n",
    "                user_choice = \"paper\"\n",
    "            if action.lower() == \"r\":\n",
    "                user_choice = \"rock\"\n",
    "            if action.lower() == \"s\":\n",
    "                user_choice = \"scissors\"\n",
    "\n",
    "            #elavuate usr choice vs cpu to determine winner\n",
    "            if user_choice ==  cpu_choice:\n",
    "                print(\"Game Tied!\")\n",
    "                print(\"Please choose again!\\n\")\n",
    "            if cpu_choice == choices.get(user_choice)[0]:\n",
    "                clear_output()\n",
    "                print(f'CPU choose {cpu_choice}!')\n",
    "                print(f'And you choose {user_choice}!\\n')\n",
    "                print(\"Congratulations you've won!!\\n\")\n",
    "            if cpu_choice == choices.get(user_choice)[1]:\n",
    "                clear_output()\n",
    "                print(f'CPU choose {cpu_choice}!')\n",
    "                print(f'And you choose {user_choice}!\\n')\n",
    "                print(\"You lose!\\n\")\n",
    "                \n",
    "\n",
    "game = Game()\n",
    "game.game()"
   ]
  },
  {
   "cell_type": "code",
   "execution_count": null,
   "id": "35a258a6-9c34-406a-b58f-c6410f334666",
   "metadata": {},
   "outputs": [],
   "source": []
  },
  {
   "cell_type": "code",
   "execution_count": null,
   "id": "e143008d-ad82-41b6-88d0-927642f9c0ef",
   "metadata": {},
   "outputs": [],
   "source": []
  }
 ],
 "metadata": {
  "kernelspec": {
   "display_name": "Python 3 (ipykernel)",
   "language": "python",
   "name": "python3"
  },
  "language_info": {
   "codemirror_mode": {
    "name": "ipython",
    "version": 3
   },
   "file_extension": ".py",
   "mimetype": "text/x-python",
   "name": "python",
   "nbconvert_exporter": "python",
   "pygments_lexer": "ipython3",
   "version": "3.10.11"
  }
 },
 "nbformat": 4,
 "nbformat_minor": 5
}
