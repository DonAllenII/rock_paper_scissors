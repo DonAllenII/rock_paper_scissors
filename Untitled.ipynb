{
 "cells": [
  {
   "cell_type": "code",
   "execution_count": null,
   "id": "e2665332-e34c-48ac-ad00-046637f6c806",
   "metadata": {},
   "outputs": [],
   "source": [
    "#create a choices object\n",
    "    #create attribute, a list of choices\n",
    "    #create method, randomly int thru list of choices\n",
    "\n",
    "#create a outcomes object\n",
    "    #create method, match/case choices outcome\n",
    "    \n",
    "\n",
    "#create computer object\n",
    "    #create choice attribute\n",
    "    #create method to \n",
    "\n",
    "#create user object"
   ]
  }
 ],
 "metadata": {
  "kernelspec": {
   "display_name": "Python 3 (ipykernel)",
   "language": "python",
   "name": "python3"
  },
  "language_info": {
   "codemirror_mode": {
    "name": "ipython",
    "version": 3
   },
   "file_extension": ".py",
   "mimetype": "text/x-python",
   "name": "python",
   "nbconvert_exporter": "python",
   "pygments_lexer": "ipython3",
   "version": "3.10.11"
  }
 },
 "nbformat": 4,
 "nbformat_minor": 5
}
